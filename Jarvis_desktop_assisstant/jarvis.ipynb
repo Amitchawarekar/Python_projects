{
 "cells": [
  {
   "cell_type": "code",
   "execution_count": 2,
   "metadata": {},
   "outputs": [
    {
     "name": "stdout",
     "output_type": "stream",
     "text": [
      "Listening......\n",
      "Recognizing....\n",
      "User said: hello may meeting\n",
      "\n"
     ]
    }
   ],
   "source": [
    "import pyttsx3\n",
    "import datetime\n",
    "import speech_recognition as sr\n",
    "engine = pyttsx3.init('sapi5')\n",
    "#'sapi5' is used here to use computer voice\n",
    "voices=engine.getProperty('voices')\n",
    "engine.setProperty('voice',voices[0].id)\n",
    "#there are 2 voices in PC [0] is male and [1] is female\n",
    "\n",
    "def speak(audio):\n",
    "    engine.say(audio)\n",
    "    engine.runAndWait()\n",
    "\n",
    "def wishMe():\n",
    "    hour = int(datetime.datetime.now().hour)\n",
    "    if hour>=0 and hour<12:\n",
    "        speak('Good Morning!')\n",
    "    elif hour>=12 and hour<18:\n",
    "        speak('Good Afternoon!')\n",
    "    else:\n",
    "        speak('Good Evening!')\n",
    "    speak('I am Jarvis Sir, Please tell me how may I help you')\n",
    "\n",
    "def takeCommand():\n",
    "    '''\n",
    "    It takes microphone input from the user and return string output.\n",
    "    '''\n",
    "    r=sr.Recognizer()\n",
    "    with sr.Microphone() as source:\n",
    "        print('Listening......')\n",
    "        r.pause_threshold = 1 # seconds of non-speaking audio before a phrase is considered complete\n",
    "        audio = r.listen(source)\n",
    "    try:\n",
    "        print('Recognizing....')\n",
    "        query=r.recognize_google(audio,language='en-in',)     #Performs speech recognition on ``audio_data`` (an ``AudioData`` instance), using the Google Speech Recognition API.\n",
    "        print(f'User said: {query}\\n')\n",
    "    except Exception as ex:\n",
    "        print(ex)\n",
    "\n",
    "        print('Say that again please......')\n",
    "        return \"None\"\n",
    "    return query\n",
    "\n",
    "if __name__ == '__main__':\n",
    "    wishMe()\n",
    "    takeCommand()"
   ]
  },
  {
   "cell_type": "code",
   "execution_count": null,
   "metadata": {},
   "outputs": [],
   "source": []
  }
 ],
 "metadata": {
  "kernelspec": {
   "display_name": "Python 3",
   "language": "python",
   "name": "python3"
  },
  "language_info": {
   "codemirror_mode": {
    "name": "ipython",
    "version": 3
   },
   "file_extension": ".py",
   "mimetype": "text/x-python",
   "name": "python",
   "nbconvert_exporter": "python",
   "pygments_lexer": "ipython3",
   "version": "3.8.5"
  }
 },
 "nbformat": 4,
 "nbformat_minor": 4
}
